{
  "cells": [
    {
      "cell_type": "markdown",
      "source": [
        "# TaskMaster.jl"
      ],
      "metadata": {}
    },
    {
      "cell_type": "markdown",
      "source": [
        "## ADFLearner"
      ],
      "metadata": {}
    },
    {
      "cell_type": "code",
      "source": [],
      "outputs": [],
      "execution_count": null,
      "metadata": {
        "collapsed": false,
        "outputHidden": false,
        "inputHidden": false
      }
    },
    {
      "cell_type": "markdown",
      "source": [
        "## Inspiring references\n",
        "\n",
        "- https://github.com/python-adaptive/adaptive\n",
        "- https://www.mathworks.com/examples/matlab/community/36375-examples-for-adaptive-m-an-utility-for-adaptive-function-evaluation\n",
        "- https://github.com/rdeits/AdaptiveDistanceFields.jl/blob/master/examples/2d_curve.ipynb\n",
        "- https://mathematica.stackexchange.com/questions/82912/how-to-obtain-adaptive-sampling-as-in-plot-function\n",
        "- https://mathematica.stackexchange.com/questions/216/adaptive-sampling-for-slow-to-compute-functions-in-2d"
      ],
      "metadata": {}
    }
  ],
  "metadata": {
    "kernel_info": {
      "name": "julia-1.0"
    },
    "language_info": {
      "file_extension": ".jl",
      "name": "julia",
      "mimetype": "application/julia",
      "version": "1.0.3"
    },
    "kernelspec": {
      "name": "julia-1.0",
      "language": "julia",
      "display_name": "Julia 1.0.3"
    },
    "nteract": {
      "version": "0.12.3"
    }
  },
  "nbformat": 4,
  "nbformat_minor": 4
}